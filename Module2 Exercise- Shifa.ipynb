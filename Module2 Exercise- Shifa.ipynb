{
 "cells": [
  {
   "cell_type": "markdown",
   "metadata": {},
   "source": [
    "## Exercises\n",
    "### Write the pseudocode for these problems. \n",
    "\n",
    "#### Define the problem by constructing an IPO diagram showing input, output, and processing steps\n",
    "Ask yourself\n",
    "- What control structures (sequence, selection and repetition) are required?\n",
    "- What variables are required?\n",
    "\n",
    "Show a check of your solution with **test data** for at least **two valid test cases**\n",
    "If you use the numbers provided in the example then the correct pseudocode will calculate the same result.\n",
    "    "
   ]
  },
  {
   "cell_type": "markdown",
   "metadata": {},
   "source": [
    "#### 1. Find the average score\n",
    "A program is needed to prompt the user operator for exam scores, calculate the average score and display the result to the screen. The average score is calculated as the sum of the scores divided by the number of scores."
   ]
  },
  {
   "cell_type": "markdown",
   "metadata": {},
   "source": [
    "GET 10 NUMBERSFROM USER AND PRING AVERAGE\n",
    "  BEGIN\n",
    "         SET COUNTER TO 1\n",
    "         SET TOTAL TO 0\n",
    "         LOOP COUNTER <= 10\n",
    "                 PROMPT USER FOR A NUMBER\n",
    "                 GET NUMBER\n",
    "                 ADD NUMBER TO TOTAL\n",
    "                 ADD 1 TO COUNTER\n",
    "         END LOOP\n",
    "         \n",
    "         AVERAGE = DIVIDE TOTAL BY 10\n",
    "         PRINT AVERAGE\n",
    "   END     \n",
    "         \n",
    "                 "
   ]
  },
  {
   "cell_type": "markdown",
   "metadata": {},
   "source": [
    "#### 2. How much water runs off a roof in a rain storm?\n",
    "To calculate the runoff from any given rainfall: Take the dimensions of the footprint of the roof and convert them to inches. (So, a 50' x 20' roof is 600\" x 240\"). Multiply the roof dimensions by the number of inches of rainfall. As an example, 600\" x 240\" x 1\" = 144,000 cubic inches of water for an inch of rainfall. Divide that result by 231 to get the number of gallons (because 1 gallon = 231 cubic inches). (144,000/231 = 623.38)."
   ]
  },
  {
   "cell_type": "markdown",
   "metadata": {},
   "source": [
    "BEGIN\n",
    "     TAKE DIMENSION OF THE FOOTPRINT OF THE ROOF\n",
    "     COVERT TO INCH BY MULTIPLY BY 12\n",
    "     TO CALCULATE RUN OFF RAINFALL IN CUBIC INCHES MULTIPLY BY RAINFALL IN INCH BY DIMINSION OF FOOTPRINT OF ROOF\n",
    "     TO CALULATE RUN OFF RAINFALL IN GALLON DIVIDE THE RESULT BY 231\n",
    "END"
   ]
  },
  {
   "cell_type": "markdown",
   "metadata": {},
   "source": [
    "#### 3. Process customer record\n",
    "A program is required to read a customer’s name, a purchase amount and a tax code. The tax code has been validated and will be one of the following: 0 tax exempt (0%) 1 state sales tax only (3%) 2 federal and state sales tax (5%) 3 special sales tax (7%) The program must then compute the sales tax and the total amount due,and print the customer’s name, purchase amount, sales tax and total amount due."
   ]
  },
  {
   "cell_type": "markdown",
   "metadata": {},
   "source": [
    "BEGIN\n",
    "          PROMPT CUSTOMER’S NAME\n",
    "          GET CUSTOMER NAME\n",
    "          PROMPT CUSTOMER PURCHASE AMOUNT\n",
    "           GET CUSTOMER PURCHASE AMOUNT\n",
    "           PROMPT CUSTOMER TAX CODE\n",
    "           GET CUSTOMER CODE\n",
    "           VALIDATE IF 0 SALES \n",
    "                      TAX EXEMPT IS EQUAL TO 0%\n",
    "                   ELSE IF  1 \n",
    "                      STATE SALES TAX IS EQUAL TO 3%\n",
    "                   ELSE IF  2 \n",
    "                       FEDERAL AND STATE TAX AND FEDERAL TAX IS EQUAL TO 5%\n",
    "                   ELSE IF 3 \n",
    "                        SALES TAX IS EQUAL TO 7%\n",
    "         COMPUTE SALES TAX \n",
    "         COMPUTE TOTA AMOUNT DUE\n",
    "         PRINT CUSTOMER NAME\n",
    "         PRINT PURCHASE AMOUNT\n",
    "         PRINT SALES TAX\n",
    "         PRINT TOTAL AMOUNT \n",
    "END\n"
   ]
  },
  {
   "cell_type": "markdown",
   "metadata": {},
   "source": [
    "#### 4. Calculate employee's pay \n",
    "A program is required by a company to read an employee’s number, pay rate and the number of hours worked in a week. The program is then to validate the pay rate field and the hours worked field and, if valid, compute the employee’s weekly pay and then print it and the input data.\n",
    "\n",
    "Validation: According to the company’s rules, the maximum hours an employee can work per week is 60 hours, and the maximum hourly rate is $25.00 per hour. If the hours worked field or the hourly rate field is out of range, the input data and an appropriate message are to be printed and the employee’s weekly pay is not to be calculated.\n",
    "\n",
    "Weekly pay calculation: Weekly pay is calculated as hours worked times pay rate. If more than 35 hours are worked, payment for the overtime hours worked is calculated at time-and-a-half."
   ]
  },
  {
   "cell_type": "markdown",
   "metadata": {},
   "source": [
    "\n",
    "BEGIN\n",
    "          PROMPT EMPLOYEE FOR EMPLOYEE NUMBER\n",
    "          GET EMPLOYEE NUMBER\n",
    "          PROMPT EMPLOYEE PAY RATE\n",
    "          GET EMPLOYEE RATE\n",
    "          PROMPT EMPLOYEE NUMBERS OF HOURS WORKED IN THE WEEK\n",
    "          GET  HOURS WORKED\n",
    "          VALIDATE MAXIMUM PAY RATE\n",
    "          MAXIMUM PAY RATE  <=  $25\n",
    "          IF\n",
    "              LOOP  MAXIMUM PAY RATE <=  25\n",
    "          PRINT EMPLOYEE PAY RATE\n",
    "          ELSE \n",
    "                END LOOP\n",
    "          VALIDATE MAXIMUM HOURS WORKED <=  60 HOURS\n",
    "          IF \n",
    "             MAXIMUM HOURS WORKED <= 60\n",
    "          PRINT HOURS WORKED\n",
    "          ELSE \n",
    "             PRINT “ OUT OF RANGE”\n",
    "         IF EMPLOYEE WORKED > 35 HOURS\n",
    "         COMPUTE OVERTIME\n",
    "         OVERTIME =  (PAY RATE  * 1.5) \n",
    "         PRINT OVERTIME\n",
    "         END LOOP     \n",
    "         COMPUTE WEEKLY PAY = HOURS WORKED  * PAY RATE  \n",
    "         IF EMPLOYEE WORKED > 35 HOURS ADD OVERTIME\n",
    "         PRINT WEEKLY PAY  \n",
    "     END\n"
   ]
  }
 ],
 "metadata": {
  "kernelspec": {
   "display_name": "Python 3",
   "language": "python",
   "name": "python3"
  },
  "language_info": {
   "codemirror_mode": {
    "name": "ipython",
    "version": 3
   },
   "file_extension": ".py",
   "mimetype": "text/x-python",
   "name": "python",
   "nbconvert_exporter": "python",
   "pygments_lexer": "ipython3",
   "version": "3.8.8"
  }
 },
 "nbformat": 4,
 "nbformat_minor": 2
}
